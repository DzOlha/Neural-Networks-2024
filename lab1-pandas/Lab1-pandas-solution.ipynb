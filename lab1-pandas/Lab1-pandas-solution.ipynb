{
 "cells": [
  {
   "cell_type": "code",
   "id": "initial_id",
   "metadata": {
    "collapsed": true,
    "jupyter": {
     "is_executing": true
    }
   },
   "source": [
    "# download dataset locally\n",
    "import os\n",
    "import urllib.request\n",
    "\n",
    "DOWNLOAD_ROOT = \"https://github.com/DzOlha/Neural-Networks-2024/raw/master/lab1-pandas/dataset/\"\n",
    "FILENAME = \"student_performance.csv\"\n",
    "URL = DOWNLOAD_ROOT + FILENAME\n",
    "\n",
    "def fetch_data(url = URL, path = FILENAME):\n",
    "    urllib.request.urlretrieve(url, path)"
   ],
   "outputs": [],
   "execution_count": null
  },
  {
   "metadata": {
    "jupyter": {
     "is_executing": true
    }
   },
   "cell_type": "code",
   "source": "fetch_data()",
   "id": "52fc24f22d56ce98",
   "outputs": [],
   "execution_count": null
  },
  {
   "metadata": {},
   "cell_type": "code",
   "outputs": [],
   "execution_count": null,
   "source": "",
   "id": "a82df5ac33038ced"
  }
 ],
 "metadata": {
  "kernelspec": {
   "display_name": "Python 3",
   "language": "python",
   "name": "python3"
  },
  "language_info": {
   "codemirror_mode": {
    "name": "ipython",
    "version": 2
   },
   "file_extension": ".py",
   "mimetype": "text/x-python",
   "name": "python",
   "nbconvert_exporter": "python",
   "pygments_lexer": "ipython2",
   "version": "2.7.6"
  }
 },
 "nbformat": 4,
 "nbformat_minor": 5
}
